{
 "cells": [
  {
   "cell_type": "markdown",
   "id": "3aa95125",
   "metadata": {},
   "source": [
    "# Gensim Movie Tutorial\n",
    "\n",
    "Python の Gensim ライブラリを使ったチュートリアル https://github.com/RaRe-Technologies/movie-plots-by-genre の練習ノートです。"
   ]
  },
  {
   "cell_type": "code",
   "execution_count": 1,
   "id": "5c3ece77",
   "metadata": {},
   "outputs": [],
   "source": [
    "%load_ext autoreload\n",
    "%autoreload 2"
   ]
  },
  {
   "cell_type": "code",
   "execution_count": 2,
   "id": "ccb20fb3",
   "metadata": {},
   "outputs": [],
   "source": [
    "from smart_open import smart_open\n",
    "import pandas as pd\n",
    "from sklearn.model_selection import train_test_split\n",
    "import matplotlib.pyplot as plt\n",
    "import nltk\n",
    "from sklearn.feature_extraction.text import CountVectorizer, TfidfVectorizer\n",
    "from sklearn import linear_model\n",
    "from sklearn.metrics import accuracy_score, confusion_matrix\n",
    "import numpy as np\n"
   ]
  },
  {
   "cell_type": "markdown",
   "id": "f8ddede3",
   "metadata": {},
   "source": [
    "このチュートリアルの目的は、映画の粗筋からジャンル名を当てる事です。まずデータを読み込みます。"
   ]
  },
  {
   "cell_type": "code",
   "execution_count": 3,
   "id": "1fb3df1d",
   "metadata": {},
   "outputs": [
    {
     "data": {
      "text/html": [
       "<div>\n",
       "<style scoped>\n",
       "    .dataframe tbody tr th:only-of-type {\n",
       "        vertical-align: middle;\n",
       "    }\n",
       "\n",
       "    .dataframe tbody tr th {\n",
       "        vertical-align: top;\n",
       "    }\n",
       "\n",
       "    .dataframe thead th {\n",
       "        text-align: right;\n",
       "    }\n",
       "</style>\n",
       "<table border=\"1\" class=\"dataframe\">\n",
       "  <thead>\n",
       "    <tr style=\"text-align: right;\">\n",
       "      <th></th>\n",
       "      <th>Unnamed: 0</th>\n",
       "      <th>movieId</th>\n",
       "      <th>plot</th>\n",
       "      <th>tag</th>\n",
       "    </tr>\n",
       "  </thead>\n",
       "  <tbody>\n",
       "    <tr>\n",
       "      <th>0</th>\n",
       "      <td>0</td>\n",
       "      <td>1</td>\n",
       "      <td>A little boy named Andy loves to be in his roo...</td>\n",
       "      <td>animation</td>\n",
       "    </tr>\n",
       "    <tr>\n",
       "      <th>1</th>\n",
       "      <td>1</td>\n",
       "      <td>2</td>\n",
       "      <td>When two kids find and play a magical board ga...</td>\n",
       "      <td>fantasy</td>\n",
       "    </tr>\n",
       "    <tr>\n",
       "      <th>2</th>\n",
       "      <td>2</td>\n",
       "      <td>3</td>\n",
       "      <td>Things don't seem to change much in Wabasha Co...</td>\n",
       "      <td>comedy</td>\n",
       "    </tr>\n",
       "    <tr>\n",
       "      <th>3</th>\n",
       "      <td>3</td>\n",
       "      <td>6</td>\n",
       "      <td>Hunters and their prey--Neil and his professio...</td>\n",
       "      <td>action</td>\n",
       "    </tr>\n",
       "    <tr>\n",
       "      <th>4</th>\n",
       "      <td>4</td>\n",
       "      <td>7</td>\n",
       "      <td>An ugly duckling having undergone a remarkable...</td>\n",
       "      <td>romance</td>\n",
       "    </tr>\n",
       "    <tr>\n",
       "      <th>...</th>\n",
       "      <td>...</td>\n",
       "      <td>...</td>\n",
       "      <td>...</td>\n",
       "      <td>...</td>\n",
       "    </tr>\n",
       "    <tr>\n",
       "      <th>2443</th>\n",
       "      <td>2443</td>\n",
       "      <td>148618</td>\n",
       "      <td>Three kids who travel back in time to 65 milli...</td>\n",
       "      <td>animation</td>\n",
       "    </tr>\n",
       "    <tr>\n",
       "      <th>2444</th>\n",
       "      <td>2444</td>\n",
       "      <td>148624</td>\n",
       "      <td>Top Cat and the gang face a new police chief, ...</td>\n",
       "      <td>animation</td>\n",
       "    </tr>\n",
       "    <tr>\n",
       "      <th>2445</th>\n",
       "      <td>2445</td>\n",
       "      <td>149088</td>\n",
       "      <td>Raggedy Ann and the rest of the toys in Marcel...</td>\n",
       "      <td>animation</td>\n",
       "    </tr>\n",
       "    <tr>\n",
       "      <th>2446</th>\n",
       "      <td>2446</td>\n",
       "      <td>149406</td>\n",
       "      <td>Continuing his \"legendary adventures of awesom...</td>\n",
       "      <td>comedy</td>\n",
       "    </tr>\n",
       "    <tr>\n",
       "      <th>2447</th>\n",
       "      <td>2447</td>\n",
       "      <td>151451</td>\n",
       "      <td>A romance fantasy humorous situations cleverly...</td>\n",
       "      <td>romance</td>\n",
       "    </tr>\n",
       "  </tbody>\n",
       "</table>\n",
       "<p>2427 rows × 4 columns</p>\n",
       "</div>"
      ],
      "text/plain": [
       "      Unnamed: 0  movieId                                               plot  \\\n",
       "0              0        1  A little boy named Andy loves to be in his roo...   \n",
       "1              1        2  When two kids find and play a magical board ga...   \n",
       "2              2        3  Things don't seem to change much in Wabasha Co...   \n",
       "3              3        6  Hunters and their prey--Neil and his professio...   \n",
       "4              4        7  An ugly duckling having undergone a remarkable...   \n",
       "...          ...      ...                                                ...   \n",
       "2443        2443   148618  Three kids who travel back in time to 65 milli...   \n",
       "2444        2444   148624  Top Cat and the gang face a new police chief, ...   \n",
       "2445        2445   149088  Raggedy Ann and the rest of the toys in Marcel...   \n",
       "2446        2446   149406  Continuing his \"legendary adventures of awesom...   \n",
       "2447        2447   151451  A romance fantasy humorous situations cleverly...   \n",
       "\n",
       "            tag  \n",
       "0     animation  \n",
       "1       fantasy  \n",
       "2        comedy  \n",
       "3        action  \n",
       "4       romance  \n",
       "...         ...  \n",
       "2443  animation  \n",
       "2444  animation  \n",
       "2445  animation  \n",
       "2446     comedy  \n",
       "2447    romance  \n",
       "\n",
       "[2427 rows x 4 columns]"
      ]
     },
     "metadata": {},
     "output_type": "display_data"
    },
    {
     "name": "stdout",
     "output_type": "stream",
     "text": [
      "plot: In a future world devastated by disease, a convict is sent back in time to gather information about the man-made virus that wiped out most of the human population on the planet.\n",
      "tag: sci-fi\n"
     ]
    }
   ],
   "source": [
    "tagged_plots_movielens = \"https://raw.githubusercontent.com/RaRe-Technologies/movie-plots-by-genre/master/data/tagged_plots_movielens.csv\"\n",
    "df = pd.read_csv(smart_open(tagged_plots_movielens)).dropna()\n",
    "display(df)\n",
    "print(f'plot: {df.iloc[12][\"plot\"]}')\n",
    "print(f'tag: {df.iloc[12][\"tag\"]}')"
   ]
  },
  {
   "cell_type": "markdown",
   "id": "def3d471",
   "metadata": {},
   "source": [
    "12 行目の内容を抜き出して見ました。plot が粗筋、tag がジャンル名です。"
   ]
  },
  {
   "cell_type": "code",
   "execution_count": 4,
   "id": "a1224a92",
   "metadata": {},
   "outputs": [
    {
     "name": "stdout",
     "output_type": "stream",
     "text": [
      "Comedy / All: 0.32138442521631644\n"
     ]
    },
    {
     "data": {
      "image/png": "[encoded data removed]",
      "text/plain": [
       "<Figure size 432x288 with 1 Axes>"
      ]
     },
     "metadata": {
      "needs_background": "light"
     },
     "output_type": "display_data"
    }
   ],
   "source": [
    "df.tag.value_counts().plot.bar()\n",
    "print(\"Comedy / All:\", len(df[df.tag==\"comedy\"]) / len(df))"
   ]
  },
  {
   "cell_type": "markdown",
   "id": "7f990e5e",
   "metadata": {},
   "source": [
    "comedy が突出して多いので、何でもかんでも comedy と予測しただけで 40% の正確性になってしまうらしいです。(32% の間違いではないか?)\n",
    "\n",
    "教師データとテストデータに分けます。データの一割をテストデータに取っておいて残りが教師データです。ジャンルが偏ってないか一応確認。"
   ]
  },
  {
   "cell_type": "code",
   "execution_count": 5,
   "id": "637c10f1",
   "metadata": {
    "scrolled": false
   },
   "outputs": [
    {
     "name": "stdout",
     "output_type": "stream",
     "text": [
      "Count train: 2184\n",
      "Count test_data: 243\n"
     ]
    },
    {
     "data": {
      "text/plain": [
       "<AxesSubplot:>"
      ]
     },
     "execution_count": 5,
     "metadata": {},
     "output_type": "execute_result"
    },
    {
     "data": {
      "image/png": "[encoded data removed]",
      "text/plain": [
       "<Figure size 432x288 with 1 Axes>"
      ]
     },
     "metadata": {
      "needs_background": "light"
     },
     "output_type": "display_data"
    }
   ],
   "source": [
    "train_data, test_data = train_test_split(df, test_size=0.1, random_state=42)\n",
    "print(\"Count train:\", len(train_data))\n",
    "print(\"Count test_data:\", len(test_data))\n",
    "test_data.tag.value_counts().plot.bar()\n"
   ]
  },
  {
   "cell_type": "markdown",
   "id": "b4f5dc29",
   "metadata": {},
   "source": [
    "## Model evaluation approach\n",
    "\n",
    "これから色々な手法を比較していきます。"
   ]
  },
  {
   "cell_type": "code",
   "execution_count": 6,
   "id": "fd0fe4ed",
   "metadata": {},
   "outputs": [],
   "source": [
    "def plot_confusion_matrix(cm, title='Confusion matrix', cmap=plt.cm.Blues):\n",
    "    plt.imshow(cm, interpolation='nearest', cmap=cmap)\n",
    "    plt.title(title)\n",
    "    plt.colorbar()\n",
    "    #tick_marks = np.arange(len(my_tags))\n",
    "    #target_names = my_tags\n",
    "    \n",
    "    target_names = df.tag.unique()\n",
    "    tick_marks = np.arange(len(target_names))\n",
    "    plt.xticks(tick_marks, target_names, rotation=45)\n",
    "    plt.yticks(tick_marks, target_names)\n",
    "    plt.tight_layout()\n",
    "    plt.ylabel('True label')\n",
    "    plt.xlabel('Predicted label')\n",
    "    \n",
    "def evaluate_prediction(predictions, target, title=\"Confusion matrix\"):\n",
    "    print('accuracy %s' % accuracy_score(target, predictions))\n",
    "    cm = confusion_matrix(target, predictions)\n",
    "    print('confusion matrix\\n %s' % cm)\n",
    "    print('(row=expected, col=predicted)')\n",
    "    \n",
    "    cm_normalized = cm.astype('float') / cm.sum(axis=1)[:, np.newaxis]\n",
    "    plot_confusion_matrix(cm_normalized, title + ' Normalized')\n",
    "\n",
    "def predict(vectorizer, classifier, data):\n",
    "    data_features = vectorizer.transform(data['plot'])\n",
    "    predictions = classifier.predict(data_features)\n",
    "    target = data['tag']\n",
    "    evaluate_prediction(predictions, target)"
   ]
  },
  {
   "cell_type": "markdown",
   "id": "f916c6eb",
   "metadata": {},
   "source": [
    "## Bag of words\n",
    "\n",
    "まず一番簡単な Bag of words を試します。Bag of worlds とは、単語の出現頻度を数えて文の特徴ベクトルとする物です。\n",
    "\n",
    "ここでは sklearn の CountVectorizer を使います。文章を単語ごとに区切る tokenizer を内蔵している優れものです。"
   ]
  },
  {
   "cell_type": "code",
   "execution_count": 7,
   "id": "6b157a03",
   "metadata": {},
   "outputs": [
    {
     "name": "stdout",
     "output_type": "stream",
     "text": [
      "CPU times: user 102 ms, sys: 2.28 ms, total: 104 ms\n",
      "Wall time: 104 ms\n"
     ]
    }
   ],
   "source": [
    "%%time\n",
    "# training\n",
    "count_vectorizer = CountVectorizer(\n",
    "    analyzer=\"word\",\n",
    "    stop_words='english',\n",
    "    max_features=3000) \n",
    "train_data_features = count_vectorizer.fit_transform(train_data['plot'])"
   ]
  },
  {
   "cell_type": "markdown",
   "id": "13002d15",
   "metadata": {},
   "source": [
    "試しに教師データの最初の粗筋がどのように変換されたか見てみます。CountVectorizer はレアすぎる単語や頻繁すぎる単語は除外してくれるので、それなりに文章の特徴を表す単語がカウントされています。"
   ]
  },
  {
   "cell_type": "code",
   "execution_count": 8,
   "id": "39387333",
   "metadata": {},
   "outputs": [
    {
     "name": "stdout",
     "output_type": "stream",
     "text": [
      "plot: In the early 1960's, sixteen year old Jenny Mellor lives with her parents in the London suburb of Twickenham. On her father's wishes, everything that Jenny does is in the sole pursuit of being accepted into Oxford, as he wants her to have a better life than he. Jenny is bright, pretty, hard working but also naturally gifted. The only problems her father may perceive in her life is her issue with learning Latin, and her dating a boy named Graham, who is nice but socially awkward. Jenny's life changes after she meets David Goldman, a man over twice her age. David goes out of his way to show Jenny and her family that his interest in her is not improper and that he wants solely to expose her to cultural activities which she enjoys. Jenny quickly gets accustomed to the life to which David and his constant companions, Danny and Helen, have shown her, and Jenny and David's relationship does move into becoming a romantic one. However, Jenny slowly learns more about David, and by association Danny and Helen, and specifically how they make their money. Jenny has to decide if what she learns about them and leading such a life is worth forgoing her plans of higher eduction at Oxford.\n",
      "count:\n",
      "{'gets': 1, 'wants': 2, 'money': 1, 'early': 1, 'year': 1, 'old': 1, 'jenny': 9, 'lives': 1, 'parents': 1, 'london': 1, 'father': 2, 'wishes': 1, 'does': 2, 'sole': 1, 'pursuit': 1, 'better': 1, 'life': 5, 'pretty': 1, 'hard': 1, 'working': 1, 'problems': 1, 'issue': 1, 'learning': 1, 'dating': 1, 'boy': 1, 'named': 1, 'nice': 1, 'changes': 1, 'meets': 1, 'david': 5, 'man': 1, 'age': 1, 'goes': 1, 'way': 1, 'family': 1, 'solely': 1, 'cultural': 1, 'enjoys': 1, 'quickly': 1, 'constant': 1, 'companions': 1, 'danny': 2, 'helen': 2, 'shown': 1, 'relationship': 1, 'romantic': 1, 'slowly': 1, 'learns': 2, 'specifically': 1, 'make': 1, 'decide': 1, 'leading': 1, 'worth': 1, 'plans': 1, 'higher': 1}\n"
     ]
    }
   ],
   "source": [
    "def show_count(index):\n",
    "    print(\"plot:\", train_data.iloc[index][\"plot\"])\n",
    "    print(\"count:\")\n",
    "    print({\n",
    "        count_vectorizer.get_feature_names()[key]: train_data_features[index, key]\n",
    "            for key\n",
    "            in train_data_features[index].indices})\n",
    "          \n",
    "show_count(1)"
   ]
  },
  {
   "cell_type": "markdown",
   "id": "3987df27",
   "metadata": {},
   "source": [
    "得られた Bag of words を特徴ベクトルとして、LogisticRegression でジャンルの予測器を作ってみます。"
   ]
  },
  {
   "cell_type": "code",
   "execution_count": 9,
   "id": "49ed11ab",
   "metadata": {},
   "outputs": [
    {
     "name": "stdout",
     "output_type": "stream",
     "text": [
      "CPU times: user 50.5 ms, sys: 99.3 ms, total: 150 ms\n",
      "Wall time: 941 ms\n"
     ]
    },
    {
     "data": {
      "text/plain": [
       "LogisticRegression(C=100000.0, n_jobs=-1)"
      ]
     },
     "execution_count": 9,
     "metadata": {},
     "output_type": "execute_result"
    }
   ],
   "source": [
    "%%time\n",
    "\n",
    "logreg = linear_model.LogisticRegression(n_jobs=-1, C=1e5)\n",
    "logreg.fit(train_data_features, train_data['tag'])\n",
    "logreg"
   ]
  },
  {
   "cell_type": "markdown",
   "id": "6ad0cd59",
   "metadata": {},
   "source": [
    "テストデータを使って評価すると、44% とまあまあ良い正答率です。特に amination や comedy の成績が良いです。"
   ]
  },
  {
   "cell_type": "code",
   "execution_count": 10,
   "id": "897cebb8",
   "metadata": {
    "scrolled": false
   },
   "outputs": [
    {
     "name": "stdout",
     "output_type": "stream",
     "text": [
      "accuracy 0.4444444444444444\n",
      "confusion matrix\n",
      " [[23  2 10  0  4  3]\n",
      " [ 2 11  8  2  3  5]\n",
      " [12  8 45  2 17  2]\n",
      " [ 3  2  2  3  5  1]\n",
      " [ 3  4 12  1 14  1]\n",
      " [ 9  4  6  2  0 12]]\n",
      "(row=expected, col=predicted)\n",
      "CPU times: user 85.4 ms, sys: 5.37 ms, total: 90.7 ms\n",
      "Wall time: 81.7 ms\n"
     ]
    },
    {
     "data": {
      "image/png": "[encoded data removed]",
      "text/plain": [
       "<Figure size 432x288 with 2 Axes>"
      ]
     },
     "metadata": {
      "needs_background": "light"
     },
     "output_type": "display_data"
    }
   ],
   "source": [
    "%%time\n",
    "\n",
    "predict(count_vectorizer, logreg, test_data)"
   ]
  },
  {
   "cell_type": "markdown",
   "id": "7a1eb9bc",
   "metadata": {},
   "source": [
    "ジャンルを特定するために特徴のある単語を確認します。"
   ]
  },
  {
   "cell_type": "code",
   "execution_count": 11,
   "id": "4bbfc5aa",
   "metadata": {},
   "outputs": [
    {
     "name": "stdout",
     "output_type": "stream",
     "text": [
      "sci-fi\n"
     ]
    },
    {
     "data": {
      "text/plain": [
       "['future',\n",
       " 'futuristic',\n",
       " 'cube',\n",
       " 'enterprise',\n",
       " 'space',\n",
       " 'suggests',\n",
       " 'technology',\n",
       " 'alien',\n",
       " 'deep',\n",
       " 'experience']"
      ]
     },
     "execution_count": 11,
     "metadata": {},
     "output_type": "execute_result"
    }
   ],
   "source": [
    "my_tags = df.tag.unique()\n",
    "def most_influential_words(vectorizer, genre_index=0, num_words=10):\n",
    "    features = vectorizer.get_feature_names()\n",
    "    max_coef = sorted(enumerate(logreg.coef_[genre_index]), key=lambda x:x[1], reverse=True)\n",
    "    return [features[x[0]] for x in max_coef[:num_words]]\n",
    "\n",
    "\n",
    "# words for the fantasy genre\n",
    "genre_tag_id = 5\n",
    "print(my_tags[genre_tag_id])\n",
    "most_influential_words(count_vectorizer, genre_tag_id)"
   ]
  }
 ],
 "metadata": {
  "kernelspec": {
   "display_name": "Python 3",
   "language": "python",
   "name": "python3"
  },
  "language_info": {
   "codemirror_mode": {
    "name": "ipython",
    "version": 3
   },
   "file_extension": ".py",
   "mimetype": "text/x-python",
   "name": "python",
   "nbconvert_exporter": "python",
   "pygments_lexer": "ipython3",
   "version": "3.9.5"
  }
 },
 "nbformat": 4,
 "nbformat_minor": 5
}
