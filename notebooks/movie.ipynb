{
 "cells": [
  {
   "cell_type": "markdown",
   "id": "9f8e61ca",
   "metadata": {},
   "source": [
    "# Gensim Movie Tutorial\n",
    "\n",
    "Python の Gensim ライブラリを使ったチュートリアル https://github.com/RaRe-Technologies/movie-plots-by-genre の練習ノートです。"
   ]
  },
  {
   "cell_type": "code",
   "execution_count": 1,
   "id": "2e0fb190",
   "metadata": {},
   "outputs": [],
   "source": [
    "%load_ext autoreload\n",
    "%autoreload 2"
   ]
  },
  {
   "cell_type": "code",
   "execution_count": 2,
   "id": "c765c272",
   "metadata": {},
   "outputs": [],
   "source": [
    "from smart_open import smart_open\n",
    "import pandas as pd\n",
    "from sklearn.model_selection import train_test_split\n",
    "import matplotlib.pyplot as plt\n",
    "import nltk\n",
    "from sklearn.feature_extraction.text import CountVectorizer, TfidfVectorizer\n",
    "from sklearn import linear_model\n",
    "from sklearn.metrics import accuracy_score, confusion_matrix\n",
    "import numpy as np\n",
    "import random\n",
    "import gensim.downloader as api\n",
    "from gensim.matutils import unitvec\n",
    "from nltk.corpus import stopwords\n",
    "from pprint import pprint"
   ]
  },
  {
   "cell_type": "markdown",
   "id": "be3a3b22",
   "metadata": {},
   "source": [
    "このチュートリアルの目的は、映画の粗筋からジャンル名を当てる事です。まず素材となるデータを読み込みます。"
   ]
  },
  {
   "cell_type": "code",
   "execution_count": 3,
   "id": "8ed56748",
   "metadata": {},
   "outputs": [
    {
     "data": {
      "text/html": [
       "<div>\n",
       "<style scoped>\n",
       "    .dataframe tbody tr th:only-of-type {\n",
       "        vertical-align: middle;\n",
       "    }\n",
       "\n",
       "    .dataframe tbody tr th {\n",
       "        vertical-align: top;\n",
       "    }\n",
       "\n",
       "    .dataframe thead th {\n",
       "        text-align: right;\n",
       "    }\n",
       "</style>\n",
       "<table border=\"1\" class=\"dataframe\">\n",
       "  <thead>\n",
       "    <tr style=\"text-align: right;\">\n",
       "      <th></th>\n",
       "      <th>Unnamed: 0</th>\n",
       "      <th>movieId</th>\n",
       "      <th>plot</th>\n",
       "      <th>tag</th>\n",
       "    </tr>\n",
       "  </thead>\n",
       "  <tbody>\n",
       "    <tr>\n",
       "      <th>0</th>\n",
       "      <td>0</td>\n",
       "      <td>1</td>\n",
       "      <td>A little boy named Andy loves to be in his roo...</td>\n",
       "      <td>animation</td>\n",
       "    </tr>\n",
       "    <tr>\n",
       "      <th>1</th>\n",
       "      <td>1</td>\n",
       "      <td>2</td>\n",
       "      <td>When two kids find and play a magical board ga...</td>\n",
       "      <td>fantasy</td>\n",
       "    </tr>\n",
       "    <tr>\n",
       "      <th>2</th>\n",
       "      <td>2</td>\n",
       "      <td>3</td>\n",
       "      <td>Things don't seem to change much in Wabasha Co...</td>\n",
       "      <td>comedy</td>\n",
       "    </tr>\n",
       "    <tr>\n",
       "      <th>3</th>\n",
       "      <td>3</td>\n",
       "      <td>6</td>\n",
       "      <td>Hunters and their prey--Neil and his professio...</td>\n",
       "      <td>action</td>\n",
       "    </tr>\n",
       "    <tr>\n",
       "      <th>4</th>\n",
       "      <td>4</td>\n",
       "      <td>7</td>\n",
       "      <td>An ugly duckling having undergone a remarkable...</td>\n",
       "      <td>romance</td>\n",
       "    </tr>\n",
       "    <tr>\n",
       "      <th>...</th>\n",
       "      <td>...</td>\n",
       "      <td>...</td>\n",
       "      <td>...</td>\n",
       "      <td>...</td>\n",
       "    </tr>\n",
       "    <tr>\n",
       "      <th>2443</th>\n",
       "      <td>2443</td>\n",
       "      <td>148618</td>\n",
       "      <td>Three kids who travel back in time to 65 milli...</td>\n",
       "      <td>animation</td>\n",
       "    </tr>\n",
       "    <tr>\n",
       "      <th>2444</th>\n",
       "      <td>2444</td>\n",
       "      <td>148624</td>\n",
       "      <td>Top Cat and the gang face a new police chief, ...</td>\n",
       "      <td>animation</td>\n",
       "    </tr>\n",
       "    <tr>\n",
       "      <th>2445</th>\n",
       "      <td>2445</td>\n",
       "      <td>149088</td>\n",
       "      <td>Raggedy Ann and the rest of the toys in Marcel...</td>\n",
       "      <td>animation</td>\n",
       "    </tr>\n",
       "    <tr>\n",
       "      <th>2446</th>\n",
       "      <td>2446</td>\n",
       "      <td>149406</td>\n",
       "      <td>Continuing his \"legendary adventures of awesom...</td>\n",
       "      <td>comedy</td>\n",
       "    </tr>\n",
       "    <tr>\n",
       "      <th>2447</th>\n",
       "      <td>2447</td>\n",
       "      <td>151451</td>\n",
       "      <td>A romance fantasy humorous situations cleverly...</td>\n",
       "      <td>romance</td>\n",
       "    </tr>\n",
       "  </tbody>\n",
       "</table>\n",
       "<p>2427 rows × 4 columns</p>\n",
       "</div>"
      ],
      "text/plain": [
       "      Unnamed: 0  movieId                                               plot  \\\n",
       "0              0        1  A little boy named Andy loves to be in his roo...   \n",
       "1              1        2  When two kids find and play a magical board ga...   \n",
       "2              2        3  Things don't seem to change much in Wabasha Co...   \n",
       "3              3        6  Hunters and their prey--Neil and his professio...   \n",
       "4              4        7  An ugly duckling having undergone a remarkable...   \n",
       "...          ...      ...                                                ...   \n",
       "2443        2443   148618  Three kids who travel back in time to 65 milli...   \n",
       "2444        2444   148624  Top Cat and the gang face a new police chief, ...   \n",
       "2445        2445   149088  Raggedy Ann and the rest of the toys in Marcel...   \n",
       "2446        2446   149406  Continuing his \"legendary adventures of awesom...   \n",
       "2447        2447   151451  A romance fantasy humorous situations cleverly...   \n",
       "\n",
       "            tag  \n",
       "0     animation  \n",
       "1       fantasy  \n",
       "2        comedy  \n",
       "3        action  \n",
       "4       romance  \n",
       "...         ...  \n",
       "2443  animation  \n",
       "2444  animation  \n",
       "2445  animation  \n",
       "2446     comedy  \n",
       "2447    romance  \n",
       "\n",
       "[2427 rows x 4 columns]"
      ]
     },
     "metadata": {},
     "output_type": "display_data"
    },
    {
     "name": "stdout",
     "output_type": "stream",
     "text": [
      "plot: In a future world devastated by disease, a convict is sent back in time to gather information about the man-made virus that wiped out most of the human population on the planet.\n",
      "tag: sci-fi\n"
     ]
    }
   ],
   "source": [
    "tagged_plots_movielens = \"https://raw.githubusercontent.com/RaRe-Technologies/movie-plots-by-genre/master/data/tagged_plots_movielens.csv\"\n",
    "df = pd.read_csv(smart_open(tagged_plots_movielens)).dropna()\n",
    "display(df)\n",
    "print(f'plot: {df.iloc[12][\"plot\"]}')\n",
    "print(f'tag: {df.iloc[12][\"tag\"]}')"
   ]
  },
  {
   "cell_type": "markdown",
   "id": "2dfee258",
   "metadata": {},
   "source": [
    "12 行目の内容を抜き出して見ました。plot が粗筋、tag がジャンル名です。これから plot を読んで tag を当てるものを作ります。tag の分布を見てみます。"
   ]
  },
  {
   "cell_type": "code",
   "execution_count": 4,
   "id": "955b788c",
   "metadata": {},
   "outputs": [
    {
     "name": "stdout",
     "output_type": "stream",
     "text": [
      "Comedy / All: 0.32138442521631644\n"
     ]
    },
    {
     "data": {
      "image/png": "[encoded data removed]",
      "text/plain": [
       "<Figure size 432x288 with 1 Axes>"
      ]
     },
     "metadata": {
      "needs_background": "light"
     },
     "output_type": "display_data"
    }
   ],
   "source": [
    "df.tag.value_counts().plot.bar()\n",
    "print(\"Comedy / All:\", len(df[df.tag==\"comedy\"]) / len(df))"
   ]
  },
  {
   "cell_type": "markdown",
   "id": "f1b262e7",
   "metadata": {},
   "source": [
    "comedy の tag が突出して多いので、何でもかんでも comedy と予測しただけで 32% の正確性になってしまいます。\n",
    "\n",
    "sklearn の train_test_split 関数を使って元のデータの9割を教師データとして取り分け、残りの1割をテストデータに取っておきます。ジャンルが偏ってないか一応確認。"
   ]
  },
  {
   "cell_type": "code",
   "execution_count": 5,
   "id": "b2f00de6",
   "metadata": {
    "scrolled": false
   },
   "outputs": [
    {
     "name": "stdout",
     "output_type": "stream",
     "text": [
      "Count train: 2184\n",
      "Count test_data: 243\n"
     ]
    },
    {
     "data": {
      "text/plain": [
       "<AxesSubplot:>"
      ]
     },
     "execution_count": 5,
     "metadata": {},
     "output_type": "execute_result"
    },
    {
     "data": {
      "image/png": "[encoded data removed]",
      "text/plain": [
       "<Figure size 432x288 with 1 Axes>"
      ]
     },
     "metadata": {
      "needs_background": "light"
     },
     "output_type": "display_data"
    }
   ],
   "source": [
    "train_data, test_data = train_test_split(df, test_size=0.1, random_state=42)\n",
    "print(\"Count train:\", len(train_data))\n",
    "print(\"Count test_data:\", len(test_data))\n",
    "test_data.tag.value_counts().plot.bar()\n"
   ]
  },
  {
   "cell_type": "markdown",
   "id": "79063a47",
   "metadata": {},
   "source": [
    "## Model evaluation approach\n",
    "\n",
    "これから色々な手法を比較評価していくための枠組みを作ります。"
   ]
  },
  {
   "cell_type": "code",
   "execution_count": 6,
   "id": "58b36699",
   "metadata": {},
   "outputs": [],
   "source": [
    "def plot_confusion_matrix(cm, title='Confusion matrix', cmap=plt.cm.Blues):\n",
    "    plt.imshow(cm, interpolation='nearest', cmap=cmap)\n",
    "    plt.title(title)\n",
    "    plt.colorbar()\n",
    "    \n",
    "    target_names = df.tag.unique()\n",
    "    tick_marks = np.arange(len(target_names))\n",
    "    plt.xticks(tick_marks, target_names, rotation=45)\n",
    "    plt.yticks(tick_marks, target_names)\n",
    "    plt.tight_layout()\n",
    "    plt.ylabel('True label')\n",
    "    plt.xlabel('Predicted label')\n",
    "    \n",
    "def evaluate_prediction(predictions, target, title=\"Confusion matrix\"):\n",
    "    print('accuracy %s' % accuracy_score(target, predictions))\n",
    "    cm = confusion_matrix(target, predictions)\n",
    "    print('confusion matrix\\n %s' % cm)\n",
    "    print('(row=expected, col=predicted)')\n",
    "    \n",
    "    cm_normalized = cm.astype('float') / cm.sum(axis=1)[:, np.newaxis]\n",
    "    plot_confusion_matrix(cm_normalized, title + ' Normalized')\n",
    "\n",
    "def predict(vectorizer, classifier, data):\n",
    "    data_features = vectorizer.transform(data['plot'])\n",
    "    predictions = classifier.predict(data_features)\n",
    "    target = data['tag']\n",
    "    evaluate_prediction(predictions, target)"
   ]
  },
  {
   "cell_type": "markdown",
   "id": "a3f5fc40",
   "metadata": {},
   "source": [
    "ここでは、predict という関数を作って予測器を評価します。predict に3つの引数を与えます。それぞれ\n",
    "\n",
    "* vectorizer: 文章をベクトルに変換する。\n",
    "* classifier: ベクトルを使って tag を予測する。\n",
    "* data: 上で取り分けておいた test_data。\n",
    "\n",
    "となります。では確認のため最もデタラメな予測器を与えてみましょう。"
   ]
  },
  {
   "cell_type": "code",
   "execution_count": 7,
   "id": "0b40d47f",
   "metadata": {},
   "outputs": [
    {
     "name": "stdout",
     "output_type": "stream",
     "text": [
      "accuracy 0.35390946502057613\n",
      "confusion matrix\n",
      " [[ 0  0 42  0  0  0]\n",
      " [ 0  0 31  0  0  0]\n",
      " [ 0  0 86  0  0  0]\n",
      " [ 0  0 16  0  0  0]\n",
      " [ 0  0 35  0  0  0]\n",
      " [ 0  0 33  0  0  0]]\n",
      "(row=expected, col=predicted)\n"
     ]
    },
    {
     "data": {
      "image/png": "[encoded data removed]",
      "text/plain": [
       "<Figure size 432x288 with 2 Axes>"
      ]
     },
     "metadata": {
      "needs_background": "light"
     },
     "output_type": "display_data"
    }
   ],
   "source": [
    "# どんな文章にも [0] を返すベクトル変換器\n",
    "class Bogus_vectorizer:\n",
    "    def transform(self, texts):\n",
    "        return np.zeros((len(texts), 1), int)\n",
    "\n",
    "# どんな入力にも \"comedy\" をデタラメに返す予測器\n",
    "class Bogus_classifier:\n",
    "    def fit(self, features, tags):\n",
    "        self.tags = tags.values\n",
    "    def predict(self, features):\n",
    "        return np.full(len(features), \"comedy\")\n",
    "        #return np.array([random.choice(self.tags) for _ in features]) # こっちの行を有効にするとランダムに返します。\n",
    "\n",
    "bogus_vectorizer = Bogus_vectorizer()\n",
    "bogus_vectorizer.transform(test_data[\"plot\"])\n",
    "\n",
    "bogus_classifier = Bogus_classifier()\n",
    "bogus_classifier.fit(bogus_vectorizer.transform(train_data[\"plot\"]), train_data[\"tag\"])\n",
    "bogus_classifier.predict(bogus_vectorizer.transform(test_data[\"plot\"]))\n",
    "\n",
    "predict(bogus_vectorizer, bogus_classifier, test_data)"
   ]
  },
  {
   "cell_type": "markdown",
   "id": "6ddb861f",
   "metadata": {},
   "source": [
    "Confusion matrix の横軸が予測されたジャンル、縦軸が本当のジャンルです。結果の通り、本当ジャンルに関わらずこのデタラメ予測器は \"comedy\" と判定しますがそれでも accuracy は 35% 出ます。という事は少なくとも 35% 以上の精度が出ないと頑張った甲斐がないという事になります。"
   ]
  },
  {
   "cell_type": "markdown",
   "id": "1eb53e71",
   "metadata": {},
   "source": [
    "## Bag of words\n",
    "\n",
    "まず一番簡単な Bag of words と LogisticRegression を試します。Bag of worlds とは、単語の出現頻度を数えて文の特徴ベクトルとする物です。例えば \"bye bye now\" なら bye: 2, now: 1 のようなベクトルになります。出来た特徴ベクトルが出来ると、教師データで LogisticRegression を訓練して予測器を作ります。\n",
    "\n",
    "ここでは sklearn の CountVectorizer を使います。文章を単語ごとに区切る tokenizer を内蔵している優れものです。数える単語の数を上位頻出 3000 語に限ります。"
   ]
  },
  {
   "cell_type": "code",
   "execution_count": 8,
   "id": "414a5022",
   "metadata": {},
   "outputs": [
    {
     "name": "stdout",
     "output_type": "stream",
     "text": [
      "CPU times: user 107 ms, sys: 2.3 ms, total: 109 ms\n",
      "Wall time: 108 ms\n"
     ]
    },
    {
     "data": {
      "text/plain": [
       "<2184x3000 sparse matrix of type '<class 'numpy.int64'>'\n",
       "\twith 49189 stored elements in Compressed Sparse Row format>"
      ]
     },
     "execution_count": 8,
     "metadata": {},
     "output_type": "execute_result"
    }
   ],
   "source": [
    "%%time\n",
    "# training\n",
    "count_vectorizer = CountVectorizer(\n",
    "    analyzer=\"word\",\n",
    "    stop_words='english',\n",
    "    max_features=3000) \n",
    "train_data_features = count_vectorizer.fit_transform(train_data['plot'])\n",
    "train_data_features"
   ]
  },
  {
   "cell_type": "markdown",
   "id": "b38f1475",
   "metadata": {},
   "source": [
    "train_data_features は粗筋の数 x 単語の数 (最大 3000) の表で、単語が何件出現するかを記録したものです。\n",
    "\n",
    "試しに教師データの粗筋がどのように変換されたか見てみます。CountVectorizer はレアすぎる単語や頻繁すぎる単語は除外してくれるので、それなりに文章の特徴を表す単語がカウントされています。"
   ]
  },
  {
   "cell_type": "code",
   "execution_count": 9,
   "id": "36aea072",
   "metadata": {},
   "outputs": [
    {
     "name": "stdout",
     "output_type": "stream",
     "text": [
      "plot: A bumbling professor accidently invents flying rubber, or \"Flubber\", an incredible material that gains energy every time it strikes a hard surface. It allows for the invention of shoes that can allow jumps of amazing heights and enables a modified Model-T to fly. Unfortunately, no one is interested in the material except for Alonzo Hawk, a corrupt businessman who wants to steal the material for himself.\n",
      "count:\n",
      "{'wants': 1, 'hard': 1, 'corrupt': 1, 'unfortunately': 1, 'bumbling': 1, 'professor': 1, 'flying': 1, 'incredible': 1, 'material': 3, 'gains': 1, 'energy': 1, 'time': 1, 'strikes': 1, 'surface': 1, 'allows': 1, 'invention': 1, 'shoes': 1, 'allow': 1, 'amazing': 1, 'heights': 1, 'model': 1, 'fly': 1, 'interested': 1, 'hawk': 1, 'businessman': 1, 'steal': 1}\n"
     ]
    }
   ],
   "source": [
    "def show_count(index):\n",
    "    print(\"plot:\", train_data.iloc[index][\"plot\"])\n",
    "    print(\"count:\")\n",
    "    print({\n",
    "        count_vectorizer.get_feature_names()[key]: train_data_features[index, key]\n",
    "            for key\n",
    "            in train_data_features[index].indices})\n",
    "          \n",
    "show_count(12)"
   ]
  },
  {
   "cell_type": "markdown",
   "id": "27ab4217",
   "metadata": {},
   "source": [
    "得られた Bag of words を特徴ベクトルとして、LogisticRegression でジャンルの予測器を作ってみます。"
   ]
  },
  {
   "cell_type": "code",
   "execution_count": 10,
   "id": "a9a77319",
   "metadata": {},
   "outputs": [
    {
     "name": "stdout",
     "output_type": "stream",
     "text": [
      "accuracy 0.4444444444444444\n",
      "confusion matrix\n",
      " [[23  2 10  0  4  3]\n",
      " [ 2 11  8  2  3  5]\n",
      " [12  8 45  2 17  2]\n",
      " [ 3  2  2  3  5  1]\n",
      " [ 3  4 12  1 14  1]\n",
      " [ 9  4  6  2  0 12]]\n",
      "(row=expected, col=predicted)\n"
     ]
    },
    {
     "data": {
      "image/png": "[encoded data removed]",
      "text/plain": [
       "<Figure size 432x288 with 2 Axes>"
      ]
     },
     "metadata": {
      "needs_background": "light"
     },
     "output_type": "display_data"
    }
   ],
   "source": [
    "logreg = linear_model.LogisticRegression(n_jobs=-1, C=1e5)\n",
    "logreg.fit(train_data_features, train_data['tag'])\n",
    "\n",
    "predict(count_vectorizer, logreg, test_data)"
   ]
  },
  {
   "cell_type": "markdown",
   "id": "3bd1bdf2",
   "metadata": {},
   "source": [
    "テストデータを使って評価すると、44% とまあまあ良い正答率です。特に amination や comedy の成績が良いです。\n",
    "\n",
    "LogisticRegression の coef_ 属性を使うと、どのベクトルの次元の影響力が強いのか観察出来ます。coef_ は tag の数 x 特徴ベクトルの次元(単語の数) で、数字が大きいほど影響力が大きいです。"
   ]
  },
  {
   "cell_type": "code",
   "execution_count": 11,
   "id": "9fdaf79e",
   "metadata": {
    "scrolled": true
   },
   "outputs": [
    {
     "name": "stdout",
     "output_type": "stream",
     "text": [
      "action: [ 0.75573721 -0.47581172  0.54842262 ... -1.99314501 -0.2582481\n",
      " -0.09286177])\n",
      "animation: [-0.50553718  1.19642655 -0.12130582 ... -0.68777642 -0.11919812\n",
      "  0.69879877])\n",
      "comedy: [-0.03884728  1.97907157  0.74785816 ...  5.12966293 -1.77318799\n",
      " -0.08446958])\n",
      "fantasy: [-0.62133302 -0.01795021 -0.63881266 ... -0.42830753 -1.0628616\n",
      " -0.05787423])\n",
      "romance: [-0.98587051 -2.00795811 -0.30017212 ... -0.37590957  1.07365758\n",
      " -0.35639341])\n",
      "sci-fi: [ 1.39585078 -0.67377808 -0.23599017 ... -1.64452441  2.13983822\n",
      " -0.10719979])\n"
     ]
    }
   ],
   "source": [
    "for tag_index, tag in enumerate(logreg.classes_):\n",
    "    print(f\"{tag}: {logreg.coef_[tag_index]})\")"
   ]
  },
  {
   "cell_type": "markdown",
   "id": "10d48a16",
   "metadata": {},
   "source": [
    "coef_ をソートしてジャンルを特徴づける単語を確認します。割と納得の結果なのではと思います。"
   ]
  },
  {
   "cell_type": "code",
   "execution_count": 12,
   "id": "0fa20f43",
   "metadata": {},
   "outputs": [
    {
     "name": "stdout",
     "output_type": "stream",
     "text": [
      "action: ['america', 'assassin', 'conspiracy', 'pursue', 'terrorists'])\n",
      "animation: ['forest', 'fight', 'snow', 'ending', 'adventurous'])\n",
      "comedy: ['mistaken', 'comedy', 'dealer', 'actress', 'comedian'])\n",
      "fantasy: ['national', 'princess', 'dragon', 'kingdom', 'beast'])\n",
      "romance: ['decide', 'relationships', 'troubled', 'beth', 'nazi'])\n",
      "sci-fi: ['future', 'futuristic', 'cube', 'enterprise', 'space'])\n"
     ]
    }
   ],
   "source": [
    "def most_influential_words(vectorizer, classifier, num_words=10):\n",
    "    words = vectorizer.get_feature_names()\n",
    "    for tag_index, tag in enumerate(classifier.classes_):\n",
    "        coef = classifier.coef_[tag_index]\n",
    "        sorted_coef = sorted(enumerate(coef), key=lambda x:x[1], reverse=True)\n",
    "        sorted_word = [words[index] for index, value in sorted_coef]\n",
    "        print(f\"{tag}: {sorted_word[:num_words]})\")    \n",
    "        \n",
    "most_influential_words(count_vectorizer, logreg, 5)"
   ]
  },
  {
   "cell_type": "markdown",
   "id": "f3500cb1",
   "metadata": {},
   "source": [
    "## Character N-grams\n",
    "\n",
    "次は N-grams です。N-grams というのは、単語で区切る事すらせずに、前後 n 個の文字列の頻度を数えて特徴量とする物です。乱暴なようですが、意外とそれなりの結果が出ます。ここでは 2 から 5 までの文字を区切って特徴量を作ります。"
   ]
  },
  {
   "cell_type": "code",
   "execution_count": 13,
   "id": "dcc3021c",
   "metadata": {},
   "outputs": [
    {
     "name": "stdout",
     "output_type": "stream",
     "text": [
      "CPU times: user 2min 14s, sys: 31.5 s, total: 2min 45s\n",
      "Wall time: 13.1 s\n"
     ]
    }
   ],
   "source": [
    "%%time\n",
    "n_gram_vectorizer = CountVectorizer(\n",
    "    analyzer=\"char\",\n",
    "    ngram_range=([2,5]),\n",
    "    tokenizer=None,    \n",
    "    preprocessor=None,                               \n",
    "    max_features=3000) \n",
    "\n",
    "logreg = linear_model.LogisticRegression(n_jobs=1, C=1e5, max_iter=1000)\n",
    "train_data_features = n_gram_vectorizer.fit_transform(train_data['plot'])\n",
    "logreg = logreg.fit(train_data_features, train_data['tag'])"
   ]
  },
  {
   "cell_type": "markdown",
   "id": "e91d0e11",
   "metadata": {},
   "source": [
    "評価してみます。"
   ]
  },
  {
   "cell_type": "code",
   "execution_count": 14,
   "id": "acae54fb",
   "metadata": {},
   "outputs": [
    {
     "name": "stdout",
     "output_type": "stream",
     "text": [
      "accuracy 0.3950617283950617\n",
      "confusion matrix\n",
      " [[17  3 10  1  9  2]\n",
      " [ 5  9  9  3  1  4]\n",
      " [15  8 41  4 16  2]\n",
      " [ 2  2  3  3  2  4]\n",
      " [ 5  1 14  1 13  1]\n",
      " [ 9  1  5  4  1 13]]\n",
      "(row=expected, col=predicted)\n"
     ]
    },
    {
     "data": {
      "image/png": "[encoded data removed]",
      "text/plain": [
       "<Figure size 432x288 with 2 Axes>"
      ]
     },
     "metadata": {
      "needs_background": "light"
     },
     "output_type": "display_data"
    }
   ],
   "source": [
    "predict(n_gram_vectorizer, logreg, test_data)"
   ]
  },
  {
   "cell_type": "markdown",
   "id": "25c241a3",
   "metadata": {},
   "source": [
    "約 40% とまあまあです。"
   ]
  },
  {
   "cell_type": "code",
   "execution_count": 15,
   "id": "edbe0baf",
   "metadata": {},
   "outputs": [
    {
     "name": "stdout",
     "output_type": "stream",
     "text": [
      "action: ['my', ' war', 'ank', 'es ', 'ist '])\n",
      "animation: [' an', 'oy', 'ot', 'y d', 'ima'])\n",
      "comedy: ['ks', 'ud', 'per', 'ate', 'man '])\n",
      "fantasy: ['au', 'king', 'rag', 'd of ', 't d'])\n",
      "romance: ['so', 'vel', ' love', 'par', 'ili'])\n",
      "sci-fi: ['fu', 'rg', 'ar ', ' a f', ' fu'])\n"
     ]
    }
   ],
   "source": [
    "most_influential_words(n_gram_vectorizer, logreg, 5)"
   ]
  },
  {
   "cell_type": "markdown",
   "id": "bb246518",
   "metadata": {},
   "source": [
    "影響力の大きい特徴を見ても、よくこんなもので 40% も当てるなと思います。"
   ]
  },
  {
   "cell_type": "markdown",
   "id": "42b1d8e5",
   "metadata": {},
   "source": [
    "## TF-IDF\n",
    "\n",
    "次に、Bag of words をもう少し進化させた [term frequency–inverse document frequency](https://en.wikipedia.org/wiki/Tf%E2%80%93idf) 略して TF-IDF を試します。TF-IDF は Bag of words で単語の出現頻度を数えた後、文の特徴となるような珍しい単語の重みを上げ、平凡な単語の重みを下げます。"
   ]
  },
  {
   "cell_type": "code",
   "execution_count": 16,
   "id": "6498a326",
   "metadata": {},
   "outputs": [
    {
     "name": "stdout",
     "output_type": "stream",
     "text": [
      "CPU times: user 27.2 s, sys: 7.18 s, total: 34.4 s\n",
      "Wall time: 2.61 s\n"
     ]
    }
   ],
   "source": [
    "%%time\n",
    "tf_vect = TfidfVectorizer(\n",
    "    #tokenizer=nltk.word_tokenize,\n",
    "    #ngram_range=(1, 2),\n",
    ")\n",
    "train_data_features = tf_vect.fit_transform(train_data['plot'])\n",
    "\n",
    "logreg = linear_model.LogisticRegression(n_jobs=1, C=1e5, max_iter=1000)\n",
    "logreg = logreg.fit(train_data_features, train_data['tag'])"
   ]
  },
  {
   "cell_type": "code",
   "execution_count": 17,
   "id": "801dc97a",
   "metadata": {},
   "outputs": [
    {
     "name": "stdout",
     "output_type": "stream",
     "text": [
      "accuracy 0.4609053497942387\n",
      "confusion matrix\n",
      " [[21  3 11  0  3  4]\n",
      " [ 2 10 10  2  2  5]\n",
      " [ 6  3 51  2 22  2]\n",
      " [ 4  4  2  3  1  2]\n",
      " [ 4  1 16  1 13  0]\n",
      " [ 7  3  6  3  0 14]]\n",
      "(row=expected, col=predicted)\n"
     ]
    },
    {
     "data": {
      "image/png": "[encoded data removed]",
      "text/plain": [
       "<Figure size 432x288 with 2 Axes>"
      ]
     },
     "metadata": {
      "needs_background": "light"
     },
     "output_type": "display_data"
    }
   ],
   "source": [
    "predict(tf_vect, logreg, test_data)"
   ]
  },
  {
   "cell_type": "markdown",
   "id": "05fba938",
   "metadata": {},
   "source": [
    "正答率 46% です。Bag of words が 44% だったのでちょっと向上しました。tokenizer を変えたり N-gram を指定して複数単語で特徴量を見たりすると多少向上します。"
   ]
  },
  {
   "cell_type": "code",
   "execution_count": 18,
   "id": "89f0ef38",
   "metadata": {
    "scrolled": true
   },
   "outputs": [
    {
     "name": "stdout",
     "output_type": "stream",
     "text": [
      "action: ['army', 'assassin', 'terrorists', 'terrorist', 'drug'])\n",
      "animation: ['animated', 'forest', 'animals', 'named', 'halloween'])\n",
      "comedy: ['comedy', 'up', 'jewish', 'around', 'jail'])\n",
      "fantasy: ['king', 'louie', 'magical', 'harry', 'magic'])\n",
      "romance: ['love', 'apartment', 'troubled', 'she', 'dance'])\n",
      "sci-fi: ['future', 'alien', 'space', 'human', 'planet'])\n"
     ]
    }
   ],
   "source": [
    "most_influential_words(tf_vect, logreg, 5)"
   ]
  },
  {
   "cell_type": "markdown",
   "id": "672ea918",
   "metadata": {},
   "source": [
    "影響の大きい特徴もちょっと良いような気がします。"
   ]
  },
  {
   "cell_type": "markdown",
   "id": "ce2c257f",
   "metadata": {},
   "source": [
    "## Word2Vec\n",
    "\n",
    "いよいよ Word2Vec を試します。Word2Vec というのは、大量の文章を学習して単語の類似度などの関係を反映させた特徴ベクトルを上手に抽出します。Bag of words や TF-IDF が「文章」に対応する特徴ベクトルを抽出するのに対して、Word2Vec では「単語」に対応する特徴ベクトルを抽出します。\n",
    "\n",
    "参考:\n",
    "* [Word2Vec Model Tutorial](https://radimrehurek.com/gensim/auto_examples/tutorials/run_word2vec.html)\n",
    "* [models.word2vec – Word2vec embeddings](https://radimrehurek.com/gensim/models/word2vec.html)\n",
    "* [models.keyedvectors – Store and query word vectors](https://radimrehurek.com/gensim/models/keyedvectors.html)\n",
    "\n",
    "学習には時間がかかるので、予め Google News dataset から作成された model を使います。"
   ]
  },
  {
   "cell_type": "code",
   "execution_count": 19,
   "id": "97a4379f",
   "metadata": {},
   "outputs": [
    {
     "name": "stdout",
     "output_type": "stream",
     "text": [
      "CPU times: user 38.3 s, sys: 2.06 s, total: 40.4 s\n",
      "Wall time: 41.4 s\n"
     ]
    }
   ],
   "source": [
    "%%time\n",
    "wv = api.load('word2vec-google-news-300')"
   ]
  },
  {
   "cell_type": "markdown",
   "id": "45eba212",
   "metadata": {},
   "source": [
    "単語の特徴ベクトルは配列アクセスの文法を使って取得出来ます。"
   ]
  },
  {
   "cell_type": "code",
   "execution_count": 20,
   "id": "580f42cc",
   "metadata": {},
   "outputs": [
    {
     "data": {
      "text/plain": [
       "array([-0.109375  ,  0.27148438, -0.00787354,  0.14648438, -0.20117188,\n",
       "        0.06396484, -0.22851562, -0.07421875,  0.02185059,  0.22167969,\n",
       "       -0.40820312,  0.55859375,  0.46289062, -0.34960938, -0.21582031,\n",
       "       -0.20117188, -0.10058594,  0.140625  ,  0.234375  , -0.06201172,\n",
       "        0.05615234, -0.31835938, -0.05834961,  0.03662109,  0.01171875,\n",
       "       -0.02416992, -0.078125  ,  0.01513672, -0.18652344,  0.08789062,\n",
       "        0.19042969, -0.09033203, -0.421875  , -0.265625  , -0.19628906,\n",
       "       -0.07080078, -0.09375   ,  0.15917969,  0.13574219, -0.06103516,\n",
       "       -0.00558472, -0.06396484,  0.02185059,  0.296875  , -0.12402344,\n",
       "        0.46875   , -0.02392578,  0.06689453,  0.05834961,  0.0559082 ,\n",
       "        0.16699219, -0.00126648,  0.41796875, -0.05664062, -0.45898438,\n",
       "        0.41015625, -0.18847656, -0.26953125,  0.11132812, -0.41992188,\n",
       "       -0.09033203,  0.08935547,  0.04882812, -0.04394531,  0.20996094,\n",
       "       -0.21582031,  0.00473022,  0.15136719,  0.2109375 ,  0.00393677,\n",
       "       -0.24902344,  0.09277344,  0.05981445,  0.12353516, -0.21386719,\n",
       "       -0.13085938,  0.06152344,  0.28125   ,  0.3515625 , -0.18554688,\n",
       "        0.265625  , -0.32617188, -0.16503906,  0.10253906,  0.03417969,\n",
       "       -0.21679688,  0.00506592, -0.171875  ,  0.08349609,  0.22070312,\n",
       "       -0.25195312,  0.1640625 , -0.11328125,  0.05908203, -0.11279297,\n",
       "        0.08105469,  0.0625    ,  0.04663086, -0.2265625 , -0.00579834,\n",
       "       -0.20019531,  0.18066406, -0.00601196,  0.25585938, -0.00159454,\n",
       "       -0.00424194, -0.08496094, -0.13183594,  0.02075195, -0.07763672,\n",
       "       -0.01434326,  0.02844238,  0.30664062, -0.0189209 , -0.11376953,\n",
       "       -0.12695312, -0.09912109, -0.296875  ,  0.17578125,  0.10986328,\n",
       "       -0.27929688, -0.0045166 , -0.17675781,  0.21875   ,  0.32421875,\n",
       "       -0.18359375, -0.07275391,  0.01416016,  0.11279297,  0.00479126,\n",
       "       -0.05053711, -0.10107422, -0.08447266, -0.1328125 , -0.25195312,\n",
       "       -0.34570312, -0.10791016, -0.20019531, -0.27929688,  0.12402344,\n",
       "        0.10742188,  0.01928711,  0.171875  , -0.0189209 ,  0.24414062,\n",
       "        0.02246094, -0.01495361,  0.10351562, -0.26367188,  0.10058594,\n",
       "        0.24804688, -0.01757812,  0.2890625 ,  0.02282715, -0.05126953,\n",
       "       -0.2734375 , -0.09716797, -0.31640625,  0.02197266, -0.09033203,\n",
       "        0.10644531, -0.00201416,  0.23828125,  0.33007812,  0.10693359,\n",
       "       -0.1953125 ,  0.2265625 ,  0.21484375,  0.11035156,  0.27929688,\n",
       "       -0.04174805, -0.20117188,  0.13085938,  0.25585938, -0.0177002 ,\n",
       "       -0.3203125 ,  0.12597656, -0.18066406,  0.14160156,  0.06054688,\n",
       "        0.05639648, -0.12792969, -0.07226562, -0.37109375,  0.4609375 ,\n",
       "        0.06982422,  0.02172852, -0.11181641, -0.28125   , -0.06933594,\n",
       "       -0.05493164, -0.0234375 ,  0.02478027, -0.10742188, -0.14746094,\n",
       "        0.09521484,  0.29882812, -0.39257812, -0.01196289, -0.515625  ,\n",
       "       -0.17675781, -0.27734375, -0.0703125 ,  0.03173828, -0.11572266,\n",
       "       -0.5       ,  0.02087402, -0.2578125 ,  0.01464844, -0.1640625 ,\n",
       "       -0.47460938, -0.03088379,  0.14550781,  0.2109375 , -0.20019531,\n",
       "       -0.01086426, -0.06689453,  0.37304688,  0.02844238,  0.06738281,\n",
       "        0.01623535, -0.09960938, -0.13671875, -0.04394531, -0.17675781,\n",
       "        0.37304688, -0.16015625,  0.04711914, -0.05786133, -0.234375  ,\n",
       "       -0.02062988, -0.13378906, -0.09472656,  0.01538086,  0.32617188,\n",
       "        0.26757812, -0.25      , -0.02502441,  0.15527344, -0.12890625,\n",
       "        0.14746094,  0.0065918 , -0.296875  , -0.11816406, -0.3671875 ,\n",
       "        0.08496094, -0.13769531, -0.07275391,  0.15136719, -0.0625    ,\n",
       "       -0.328125  , -0.04541016,  0.12792969, -0.10888672, -0.12011719,\n",
       "       -0.22363281,  0.16113281, -0.14160156,  0.00842285,  0.3125    ,\n",
       "        0.13769531,  0.07861328,  0.20117188, -0.03540039, -0.08837891,\n",
       "        0.12988281, -0.00915527, -0.3046875 ,  0.29101562, -0.13085938,\n",
       "       -0.24023438, -0.11572266,  0.01086426,  0.04394531,  0.27539062,\n",
       "        0.02172852, -0.33984375,  0.453125  ,  0.23828125,  0.2109375 ,\n",
       "       -0.11865234, -0.03881836,  0.08007812, -0.07275391,  0.30664062,\n",
       "        0.22851562, -0.33007812, -0.05249023, -0.3671875 , -0.04125977,\n",
       "       -0.0019989 ,  0.12890625,  0.18066406,  0.10498047, -0.0625    ,\n",
       "       -0.14941406, -0.35546875,  0.15722656, -0.1640625 ,  0.08789062],\n",
       "      dtype=float32)"
      ]
     },
     "execution_count": 20,
     "metadata": {},
     "output_type": "execute_result"
    }
   ],
   "source": [
    "wv[\"Tokyo\"]"
   ]
  },
  {
   "cell_type": "markdown",
   "id": "e13a5162",
   "metadata": {},
   "source": [
    "うまく学習すると、まるで単語の特徴ベクトルに演算が成り立つかのようになります。例えば以下は「日本にとっての東京はフランスにとって何だ?」というクイズを表します。"
   ]
  },
  {
   "cell_type": "code",
   "execution_count": 21,
   "id": "331dd012",
   "metadata": {},
   "outputs": [
    {
     "data": {
      "text/plain": [
       "[('Paris', 0.8110150694847107)]"
      ]
     },
     "execution_count": 21,
     "metadata": {},
     "output_type": "execute_result"
    }
   ],
   "source": [
    "wv.similar_by_vector(wv[\"Tokyo\"] - wv[\"Japan\"] + wv[\"France\"], 1)"
   ]
  },
  {
   "cell_type": "markdown",
   "id": "75d6f816",
   "metadata": {},
   "source": [
    "次に「父が男なら母は何だ?」です。"
   ]
  },
  {
   "cell_type": "code",
   "execution_count": 22,
   "id": "5184939a",
   "metadata": {},
   "outputs": [
    {
     "data": {
      "text/plain": [
       "[('woman', 0.8460322618484497)]"
      ]
     },
     "execution_count": 22,
     "metadata": {},
     "output_type": "execute_result"
    }
   ],
   "source": [
    "wv.similar_by_vector(wv[\"man\"] - wv[\"father\"] + wv[\"mother\"], 1)"
   ]
  },
  {
   "cell_type": "markdown",
   "id": "666db8fe",
   "metadata": {},
   "source": [
    "映画のレビューは単語ではなく文章なので、このままでは予測に使えません。そこで、文章の特徴ベクトルを得るためどうするかというと、単純に平均化すると良いそうです。\n",
    "\n",
    "* 参考: [Mike Tamir, Classifying Text without (many) Labels](https://www.youtube.com/watch?v=7gTjYwiaJiU)\n",
    "\n",
    "まず単語を切り出します。その際に、nltk.corpus.stopwords を使って一般的すぎる単語を除外します。"
   ]
  },
  {
   "cell_type": "code",
   "execution_count": 24,
   "id": "76f63226",
   "metadata": {},
   "outputs": [
    {
     "name": "stdout",
     "output_type": "stream",
     "text": [
      "['series', 'begins', 'crew', 'Enterprise-D', 'put', 'trial', 'omnipotent', 'known', 'became', 'recurring', 'character', 'god-like', 'entity', 'threatens', 'extinction', 'humanity', 'race', 'savages', 'forcing', 'solve', 'mystery', 'nearby', 'Farpoint', 'Station', 'prove', 'worthiness', 'spared', 'successfully', 'solving', 'mystery', 'avoiding', 'disaster', 'crew', 'departs', 'mission', 'explore', 'strange', 'new', 'worlds.The', 'series', 'begins', 'crew', 'Enterprise-D', 'put', 'trial', 'omnipotent', 'known', 'became', 'recurring', 'character', 'god-like', 'entity', 'threatens', 'extinction', 'humanity', 'race', 'savages', 'forcing', 'solve', 'mystery', 'nearby', 'Farpoint', 'Station', 'prove', 'worthiness', 'spared', 'successfully', 'solving', 'mystery', 'avoiding', 'disaster', 'crew', 'departs', 'mission', 'explore', 'strange', 'new', 'worlds']\n"
     ]
    },
    {
     "name": "stderr",
     "output_type": "stream",
     "text": [
      "[nltk_data] Downloading package stopwords to\n",
      "[nltk_data]     /Users/tyamamiya/nltk_data...\n",
      "[nltk_data]   Package stopwords is already up-to-date!\n"
     ]
    }
   ],
   "source": [
    "nltk.download('stopwords')\n",
    "\n",
    "def w2v_tokenize_text(text):\n",
    "    tokens = []\n",
    "    for sent in nltk.sent_tokenize(text, language='english'):\n",
    "        for word in nltk.word_tokenize(sent, language='english'):\n",
    "            if len(word) < 2:\n",
    "                continue\n",
    "            if word.lower() in stopwords.words('english'):\n",
    "                continue\n",
    "            tokens.append(word)\n",
    "    return tokens\n",
    "\n",
    "tng_plot = \"The series begins with the crew of the Enterprise-D put on trial by an omnipotent being known as Q, who became a recurring character. The god-like entity threatens the extinction of humanity for being a race of savages, forcing them to solve a mystery at nearby Farpoint Station to prove their worthiness to be spared. After successfully solving the mystery and avoiding disaster, the crew departs on its mission to explore strange new worlds.The series begins with the crew of the Enterprise-D put on trial by an omnipotent being known as Q, who became a recurring character. The god-like entity threatens the extinction of humanity for being a race of savages, forcing them to solve a mystery at nearby Farpoint Station to prove their worthiness to be spared. After successfully solving the mystery and avoiding disaster, the crew departs on its mission to explore strange new worlds.\"\n",
    "print(w2v_tokenize_text(tng_plot))"
   ]
  },
  {
   "cell_type": "markdown",
   "id": "ab9c9a35",
   "metadata": {},
   "source": [
    "次に、単語ごとの word2vec の特徴ベクトルを get_vector で求めて平均化します。`wv[単語]` ではなく `wv.get_vector(単語, norm=True)` を使うのは、正規化したベクトルを使うからです。平均したあとまた最後に gensim.matutils.unitvec で正規化しておきます。"
   ]
  },
  {
   "cell_type": "code",
   "execution_count": 25,
   "id": "4f272844",
   "metadata": {},
   "outputs": [],
   "source": [
    "def averaging(wv, words):\n",
    "    mean = np.mean([wv.get_vector(word, norm=True)\n",
    "                        for word\n",
    "                        in words\n",
    "                        if word in wv], axis=0)\n",
    "    return unitvec(mean)\n",
    "\n",
    "def averaging_text(wv, text):\n",
    "    return averaging(wv, w2v_tokenize_text(text))"
   ]
  },
  {
   "cell_type": "markdown",
   "id": "deb6a13d",
   "metadata": {},
   "source": [
    "確認のため、得られた文章の特徴ベクトルがどんな単語に近いか見てみます。ピンと来ますでしょうか?"
   ]
  },
  {
   "cell_type": "code",
   "execution_count": 26,
   "id": "dd896e01",
   "metadata": {},
   "outputs": [
    {
     "data": {
      "text/plain": [
       "[('mystery', 0.4961079955101013),\n",
       " ('mysterious', 0.4670897126197815),\n",
       " ('fictional', 0.4605964720249176),\n",
       " ('supernatural', 0.448750764131546),\n",
       " ('confront', 0.4461035430431366),\n",
       " ('sort', 0.44454988837242126),\n",
       " ('solve', 0.4442543089389801),\n",
       " ('character', 0.44423702359199524),\n",
       " ('mysteries', 0.4432906210422516),\n",
       " ('solving', 0.43936479091644287),\n",
       " ('confronts', 0.43834561109542847),\n",
       " ('villain', 0.43776965141296387),\n",
       " ('humanity', 0.4373060464859009),\n",
       " ('mythical', 0.43303632736206055),\n",
       " ('peculiar', 0.432568222284317),\n",
       " ('revolves_around', 0.42918798327445984),\n",
       " ('alien', 0.42697280645370483),\n",
       " ('confronting', 0.4260649085044861),\n",
       " ('vanishes', 0.4246973693370819),\n",
       " ('villains', 0.4238564074039459)]"
      ]
     },
     "execution_count": 26,
     "metadata": {},
     "output_type": "execute_result"
    }
   ],
   "source": [
    "wv.similar_by_vector(averaging_text(wv, tng_plot), restrict_vocab=100000, topn=20)"
   ]
  },
  {
   "cell_type": "markdown",
   "id": "a17825bf",
   "metadata": {},
   "source": [
    "それでも一応この方法で教師データとテストデータから特徴ベクトルを作ります。"
   ]
  },
  {
   "cell_type": "code",
   "execution_count": 27,
   "id": "1689bd9c",
   "metadata": {},
   "outputs": [
    {
     "name": "stdout",
     "output_type": "stream",
     "text": [
      "CPU times: user 18.4 s, sys: 4.83 s, total: 23.2 s\n",
      "Wall time: 23.1 s\n"
     ]
    }
   ],
   "source": [
    "%%time\n",
    "\n",
    "def averaging_list(wv, text_list):\n",
    "    return [averaging_text(wv, text) for text in text_list]\n",
    "\n",
    "X_train_word_average = averaging_list(wv, train_data[\"plot\"])\n",
    "X_test_word_average = averaging_list(wv, test_data[\"plot\"])"
   ]
  },
  {
   "cell_type": "code",
   "execution_count": 28,
   "id": "e6276eb2",
   "metadata": {},
   "outputs": [
    {
     "name": "stdout",
     "output_type": "stream",
     "text": [
      "accuracy 0.5349794238683128\n",
      "confusion matrix\n",
      " [[24  1 11  1  1  4]\n",
      " [ 2 11  6  6  4  2]\n",
      " [ 6  6 57  3 12  2]\n",
      " [ 2  3  1  6  1  3]\n",
      " [ 4  1 13  0 14  3]\n",
      " [ 7  2  3  2  1 18]]\n",
      "(row=expected, col=predicted)\n",
      "CPU times: user 9.97 s, sys: 1.48 s, total: 11.4 s\n",
      "Wall time: 1.48 s\n"
     ]
    },
    {
     "data": {
      "image/png": "[encoded data removed]",
      "text/plain": [
       "<Figure size 432x288 with 2 Axes>"
      ]
     },
     "metadata": {
      "needs_background": "light"
     },
     "output_type": "display_data"
    }
   ],
   "source": [
    "%%time\n",
    "logreg = linear_model.LogisticRegression(n_jobs=1, C=1e5, max_iter=2000)\n",
    "logreg.fit(X_train_word_average, train_data['tag'])\n",
    "\n",
    "predicted = logreg.predict(X_test_word_average)\n",
    "evaluate_prediction(predicted, test_data.tag)"
   ]
  },
  {
   "cell_type": "markdown",
   "id": "457c4979",
   "metadata": {},
   "source": [
    "53% 出ました。今までで一番高いですが、正直なんで上手くいくのか謎です。テスト用の粗筋と特徴ベクトル近辺の単語を見てみます。"
   ]
  },
  {
   "cell_type": "code",
   "execution_count": 29,
   "id": "e7e0ded8",
   "metadata": {},
   "outputs": [
    {
     "name": "stdout",
     "output_type": "stream",
     "text": [
      "Scruffy but irresistibly attractive Yau Muk-yan, without a job or a place to live, moves in with sensitive, shy piano tuner Chan Kar-fu. Both are disturbed, then obsessed, by the amateurish piano playing of upstairs neighbour Mok Man-yee. Obsession turns to romance, and romance to fantasy. The film is structured in four \"movements\": two themes (Yau Muk-yan, Mok Man-yee), a duet (Yau Muk-yan & Mok Man-yee), and a set of variations (a wild fantasy of Chan Kar-fu in his new novel).\n",
      "[('dreamy', 0.5190651416778564),\n",
      " ('Chan', 0.5157312750816345),\n",
      " ('Cheung', 0.5124940872192383),\n",
      " ('romance', 0.5102624893188477),\n",
      " ('romantic', 0.4882933795452118),\n",
      " ('Wong', 0.47440242767333984),\n",
      " ('sexy', 0.4723252058029175),\n",
      " ('neurotic', 0.47144070267677307),\n",
      " ('Leung', 0.468058705329895),\n",
      " ('moody', 0.46737581491470337),\n",
      " ('weird', 0.4657338857650757),\n",
      " ('Cheng', 0.4650360941886902),\n",
      " ('Yuen', 0.45778849720954895),\n",
      " ('vamp', 0.45643094182014465),\n",
      " ('Chow', 0.45602890849113464),\n",
      " ('Yu', 0.4541877210140228),\n",
      " ('By_TBT_staff', 0.45398378372192383),\n",
      " ('Kwok', 0.45246854424476624),\n",
      " ('Chang', 0.45167356729507446),\n",
      " ('funny', 0.4502175748348236)]\n"
     ]
    }
   ],
   "source": [
    "def examine_word2vec(text):\n",
    "    print(text)\n",
    "    vector = averaging_text(wv, text)\n",
    "    pprint(wv.similar_by_vector(vector, restrict_vocab=100000, topn=20))\n",
    "\n",
    "examine_word2vec(test_data.iloc[56]['plot'])"
   ]
  }
 ],
 "metadata": {
  "kernelspec": {
   "display_name": "Python 3",
   "language": "python",
   "name": "python3"
  },
  "language_info": {
   "codemirror_mode": {
    "name": "ipython",
    "version": 3
   },
   "file_extension": ".py",
   "mimetype": "text/x-python",
   "name": "python",
   "nbconvert_exporter": "python",
   "pygments_lexer": "ipython3",
   "version": "3.9.5"
  }
 },
 "nbformat": 4,
 "nbformat_minor": 5
}
