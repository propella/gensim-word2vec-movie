{
 "cells": [
  {
   "cell_type": "markdown",
   "id": "9f8e61ca",
   "metadata": {},
   "source": [
    "# Gensim Movie Tutorial\n",
    "\n",
    "Python の Gensim ライブラリを使ったチュートリアル https://github.com/RaRe-Technologies/movie-plots-by-genre の練習ノートです。"
   ]
  },
  {
   "cell_type": "code",
   "execution_count": 1,
   "id": "2e0fb190",
   "metadata": {},
   "outputs": [],
   "source": [
    "%load_ext autoreload\n",
    "%autoreload 2"
   ]
  },
  {
   "cell_type": "code",
   "execution_count": 2,
   "id": "c765c272",
   "metadata": {},
   "outputs": [],
   "source": [
    "from smart_open import smart_open\n",
    "import pandas as pd\n",
    "from sklearn.model_selection import train_test_split\n",
    "import matplotlib.pyplot as plt\n",
    "import nltk\n",
    "from sklearn.feature_extraction.text import CountVectorizer, TfidfVectorizer\n",
    "from sklearn import linear_model\n",
    "from sklearn.metrics import accuracy_score, confusion_matrix\n",
    "import numpy as np\n",
    "import random"
   ]
  },
  {
   "cell_type": "markdown",
   "id": "be3a3b22",
   "metadata": {},
   "source": [
    "このチュートリアルの目的は、映画の粗筋からジャンル名を当てる事です。まず素材となるデータを読み込みます。"
   ]
  },
  {
   "cell_type": "code",
   "execution_count": 3,
   "id": "8ed56748",
   "metadata": {},
   "outputs": [
    {
     "data": {
      "text/html": [
       "<div>\n",
       "<style scoped>\n",
       "    .dataframe tbody tr th:only-of-type {\n",
       "        vertical-align: middle;\n",
       "    }\n",
       "\n",
       "    .dataframe tbody tr th {\n",
       "        vertical-align: top;\n",
       "    }\n",
       "\n",
       "    .dataframe thead th {\n",
       "        text-align: right;\n",
       "    }\n",
       "</style>\n",
       "<table border=\"1\" class=\"dataframe\">\n",
       "  <thead>\n",
       "    <tr style=\"text-align: right;\">\n",
       "      <th></th>\n",
       "      <th>Unnamed: 0</th>\n",
       "      <th>movieId</th>\n",
       "      <th>plot</th>\n",
       "      <th>tag</th>\n",
       "    </tr>\n",
       "  </thead>\n",
       "  <tbody>\n",
       "    <tr>\n",
       "      <th>0</th>\n",
       "      <td>0</td>\n",
       "      <td>1</td>\n",
       "      <td>A little boy named Andy loves to be in his roo...</td>\n",
       "      <td>animation</td>\n",
       "    </tr>\n",
       "    <tr>\n",
       "      <th>1</th>\n",
       "      <td>1</td>\n",
       "      <td>2</td>\n",
       "      <td>When two kids find and play a magical board ga...</td>\n",
       "      <td>fantasy</td>\n",
       "    </tr>\n",
       "    <tr>\n",
       "      <th>2</th>\n",
       "      <td>2</td>\n",
       "      <td>3</td>\n",
       "      <td>Things don't seem to change much in Wabasha Co...</td>\n",
       "      <td>comedy</td>\n",
       "    </tr>\n",
       "    <tr>\n",
       "      <th>3</th>\n",
       "      <td>3</td>\n",
       "      <td>6</td>\n",
       "      <td>Hunters and their prey--Neil and his professio...</td>\n",
       "      <td>action</td>\n",
       "    </tr>\n",
       "    <tr>\n",
       "      <th>4</th>\n",
       "      <td>4</td>\n",
       "      <td>7</td>\n",
       "      <td>An ugly duckling having undergone a remarkable...</td>\n",
       "      <td>romance</td>\n",
       "    </tr>\n",
       "    <tr>\n",
       "      <th>...</th>\n",
       "      <td>...</td>\n",
       "      <td>...</td>\n",
       "      <td>...</td>\n",
       "      <td>...</td>\n",
       "    </tr>\n",
       "    <tr>\n",
       "      <th>2443</th>\n",
       "      <td>2443</td>\n",
       "      <td>148618</td>\n",
       "      <td>Three kids who travel back in time to 65 milli...</td>\n",
       "      <td>animation</td>\n",
       "    </tr>\n",
       "    <tr>\n",
       "      <th>2444</th>\n",
       "      <td>2444</td>\n",
       "      <td>148624</td>\n",
       "      <td>Top Cat and the gang face a new police chief, ...</td>\n",
       "      <td>animation</td>\n",
       "    </tr>\n",
       "    <tr>\n",
       "      <th>2445</th>\n",
       "      <td>2445</td>\n",
       "      <td>149088</td>\n",
       "      <td>Raggedy Ann and the rest of the toys in Marcel...</td>\n",
       "      <td>animation</td>\n",
       "    </tr>\n",
       "    <tr>\n",
       "      <th>2446</th>\n",
       "      <td>2446</td>\n",
       "      <td>149406</td>\n",
       "      <td>Continuing his \"legendary adventures of awesom...</td>\n",
       "      <td>comedy</td>\n",
       "    </tr>\n",
       "    <tr>\n",
       "      <th>2447</th>\n",
       "      <td>2447</td>\n",
       "      <td>151451</td>\n",
       "      <td>A romance fantasy humorous situations cleverly...</td>\n",
       "      <td>romance</td>\n",
       "    </tr>\n",
       "  </tbody>\n",
       "</table>\n",
       "<p>2427 rows × 4 columns</p>\n",
       "</div>"
      ],
      "text/plain": [
       "      Unnamed: 0  movieId                                               plot  \\\n",
       "0              0        1  A little boy named Andy loves to be in his roo...   \n",
       "1              1        2  When two kids find and play a magical board ga...   \n",
       "2              2        3  Things don't seem to change much in Wabasha Co...   \n",
       "3              3        6  Hunters and their prey--Neil and his professio...   \n",
       "4              4        7  An ugly duckling having undergone a remarkable...   \n",
       "...          ...      ...                                                ...   \n",
       "2443        2443   148618  Three kids who travel back in time to 65 milli...   \n",
       "2444        2444   148624  Top Cat and the gang face a new police chief, ...   \n",
       "2445        2445   149088  Raggedy Ann and the rest of the toys in Marcel...   \n",
       "2446        2446   149406  Continuing his \"legendary adventures of awesom...   \n",
       "2447        2447   151451  A romance fantasy humorous situations cleverly...   \n",
       "\n",
       "            tag  \n",
       "0     animation  \n",
       "1       fantasy  \n",
       "2        comedy  \n",
       "3        action  \n",
       "4       romance  \n",
       "...         ...  \n",
       "2443  animation  \n",
       "2444  animation  \n",
       "2445  animation  \n",
       "2446     comedy  \n",
       "2447    romance  \n",
       "\n",
       "[2427 rows x 4 columns]"
      ]
     },
     "metadata": {},
     "output_type": "display_data"
    },
    {
     "name": "stdout",
     "output_type": "stream",
     "text": [
      "plot: In a future world devastated by disease, a convict is sent back in time to gather information about the man-made virus that wiped out most of the human population on the planet.\n",
      "tag: sci-fi\n"
     ]
    }
   ],
   "source": [
    "tagged_plots_movielens = \"https://raw.githubusercontent.com/RaRe-Technologies/movie-plots-by-genre/master/data/tagged_plots_movielens.csv\"\n",
    "df = pd.read_csv(smart_open(tagged_plots_movielens)).dropna()\n",
    "display(df)\n",
    "print(f'plot: {df.iloc[12][\"plot\"]}')\n",
    "print(f'tag: {df.iloc[12][\"tag\"]}')"
   ]
  },
  {
   "cell_type": "markdown",
   "id": "2dfee258",
   "metadata": {},
   "source": [
    "12 行目の内容を抜き出して見ました。plot が粗筋、tag がジャンル名です。これから plot を読んで tag を当てるものを作ります。tag の分布を見てみます。"
   ]
  },
  {
   "cell_type": "code",
   "execution_count": 4,
   "id": "955b788c",
   "metadata": {},
   "outputs": [
    {
     "name": "stdout",
     "output_type": "stream",
     "text": [
      "Comedy / All: 0.32138442521631644\n"
     ]
    },
    {
     "data": {
      "image/png": "[encoded data removed]",
      "text/plain": [
       "<Figure size 432x288 with 1 Axes>"
      ]
     },
     "metadata": {
      "needs_background": "light"
     },
     "output_type": "display_data"
    }
   ],
   "source": [
    "df.tag.value_counts().plot.bar()\n",
    "print(\"Comedy / All:\", len(df[df.tag==\"comedy\"]) / len(df))"
   ]
  },
  {
   "cell_type": "markdown",
   "id": "f1b262e7",
   "metadata": {},
   "source": [
    "comedy の tag が突出して多いので、何でもかんでも comedy と予測しただけで 32% の正確性になってしまいます。\n",
    "\n",
    "sklearn の train_test_split 関数を使って元のデータの9割を教師データとして取り分け、残りの1割をテストデータに取っておきます。ジャンルが偏ってないか一応確認。"
   ]
  },
  {
   "cell_type": "code",
   "execution_count": 5,
   "id": "b2f00de6",
   "metadata": {
    "scrolled": false
   },
   "outputs": [
    {
     "name": "stdout",
     "output_type": "stream",
     "text": [
      "Count train: 2184\n",
      "Count test_data: 243\n"
     ]
    },
    {
     "data": {
      "text/plain": [
       "<AxesSubplot:>"
      ]
     },
     "execution_count": 5,
     "metadata": {},
     "output_type": "execute_result"
    },
    {
     "data": {
      "image/png": "[encoded data removed]",
      "text/plain": [
       "<Figure size 432x288 with 1 Axes>"
      ]
     },
     "metadata": {
      "needs_background": "light"
     },
     "output_type": "display_data"
    }
   ],
   "source": [
    "train_data, test_data = train_test_split(df, test_size=0.1, random_state=42)\n",
    "print(\"Count train:\", len(train_data))\n",
    "print(\"Count test_data:\", len(test_data))\n",
    "test_data.tag.value_counts().plot.bar()\n"
   ]
  },
  {
   "cell_type": "markdown",
   "id": "79063a47",
   "metadata": {},
   "source": [
    "## Model evaluation approach\n",
    "\n",
    "これから色々な手法を比較評価していくための枠組みを作ります。"
   ]
  },
  {
   "cell_type": "code",
   "execution_count": 6,
   "id": "58b36699",
   "metadata": {},
   "outputs": [],
   "source": [
    "def plot_confusion_matrix(cm, title='Confusion matrix', cmap=plt.cm.Blues):\n",
    "    plt.imshow(cm, interpolation='nearest', cmap=cmap)\n",
    "    plt.title(title)\n",
    "    plt.colorbar()\n",
    "    \n",
    "    target_names = df.tag.unique()\n",
    "    tick_marks = np.arange(len(target_names))\n",
    "    plt.xticks(tick_marks, target_names, rotation=45)\n",
    "    plt.yticks(tick_marks, target_names)\n",
    "    plt.tight_layout()\n",
    "    plt.ylabel('True label')\n",
    "    plt.xlabel('Predicted label')\n",
    "    \n",
    "def evaluate_prediction(predictions, target, title=\"Confusion matrix\"):\n",
    "    print('accuracy %s' % accuracy_score(target, predictions))\n",
    "    cm = confusion_matrix(target, predictions)\n",
    "    print('confusion matrix\\n %s' % cm)\n",
    "    print('(row=expected, col=predicted)')\n",
    "    \n",
    "    cm_normalized = cm.astype('float') / cm.sum(axis=1)[:, np.newaxis]\n",
    "    plot_confusion_matrix(cm_normalized, title + ' Normalized')\n",
    "\n",
    "def predict(vectorizer, classifier, data):\n",
    "    data_features = vectorizer.transform(data['plot'])\n",
    "    predictions = classifier.predict(data_features)\n",
    "    target = data['tag']\n",
    "    evaluate_prediction(predictions, target)"
   ]
  },
  {
   "cell_type": "markdown",
   "id": "39b66787",
   "metadata": {},
   "source": [
    "ここでは、predict という関数を作って予測器を評価します。predict に3つの引数を与えます。それぞれ\n",
    "\n",
    "* vectorizer: 文章をベクトルに変換する。\n",
    "* classifier: ベクトルを使って tag を予測する。\n",
    "* data: 上で取り分けておいた test_data。\n",
    "\n",
    "となります。では確認のため最もデタラメな予測器を与えてみましょう。"
   ]
  },
  {
   "cell_type": "code",
   "execution_count": 7,
   "id": "f7965966",
   "metadata": {},
   "outputs": [
    {
     "name": "stdout",
     "output_type": "stream",
     "text": [
      "accuracy 0.35390946502057613\n",
      "confusion matrix\n",
      " [[ 0  0 42  0  0  0]\n",
      " [ 0  0 31  0  0  0]\n",
      " [ 0  0 86  0  0  0]\n",
      " [ 0  0 16  0  0  0]\n",
      " [ 0  0 35  0  0  0]\n",
      " [ 0  0 33  0  0  0]]\n",
      "(row=expected, col=predicted)\n"
     ]
    },
    {
     "data": {
      "image/png": "[encoded data removed]",
      "text/plain": [
       "<Figure size 432x288 with 2 Axes>"
      ]
     },
     "metadata": {
      "needs_background": "light"
     },
     "output_type": "display_data"
    }
   ],
   "source": [
    "# どんな文章にも [0] を返すベクトル変換器\n",
    "class Bogus_vectorizer:\n",
    "    def transform(self, texts):\n",
    "        return np.zeros((len(texts), 1), int)\n",
    "\n",
    "# どんな入力にも \"comedy\" をデタラメに返す予測器\n",
    "class Bogus_classifier:\n",
    "    def fit(self, features, tags):\n",
    "        self.tags = tags.values\n",
    "    def predict(self, features):\n",
    "        return np.full(len(features), \"comedy\")\n",
    "        #return np.array([random.choice(self.tags) for _ in features]) # こっちの行を有効にするとランダムに返します。\n",
    "\n",
    "bogus_vectorizer = Bogus_vectorizer()\n",
    "bogus_vectorizer.transform(test_data[\"plot\"])\n",
    "\n",
    "bogus_classifier = Bogus_classifier()\n",
    "bogus_classifier.fit(bogus_vectorizer.transform(train_data[\"plot\"]), train_data[\"tag\"])\n",
    "bogus_classifier.predict(bogus_vectorizer.transform(test_data[\"plot\"]))\n",
    "\n",
    "predict(bogus_vectorizer, bogus_classifier, test_data)"
   ]
  },
  {
   "cell_type": "markdown",
   "id": "ab260cac",
   "metadata": {},
   "source": [
    "Confusion matrix の横軸が予測されたジャンル、縦軸が本当のジャンルです。結果の通り、本当ジャンルに関わらずこのデタラメ予測器は \"comedy\" と判定しますがそれでも accuracy は 35% 出ます。という事は少なくとも 35% 以上の精度が出ないと頑張った甲斐がないという事になります。"
   ]
  },
  {
   "cell_type": "markdown",
   "id": "1eb53e71",
   "metadata": {},
   "source": [
    "## Bag of words\n",
    "\n",
    "まず一番簡単な Bag of words と LogisticRegression を試します。Bag of worlds とは、単語の出現頻度を数えて文の特徴ベクトルとする物です。例えば \"bye bye now\" なら bye: 2, now: 1 のようなベクトルになります。出来た特徴ベクトルが出来ると、教師データで LogisticRegression を訓練して予測器を作ります。\n",
    "\n",
    "ここでは sklearn の CountVectorizer を使います。文章を単語ごとに区切る tokenizer を内蔵している優れものです。数える単語の数を上位頻出 3000 語に限ります。"
   ]
  },
  {
   "cell_type": "code",
   "execution_count": 8,
   "id": "414a5022",
   "metadata": {},
   "outputs": [
    {
     "name": "stdout",
     "output_type": "stream",
     "text": [
      "CPU times: user 100 ms, sys: 2.38 ms, total: 103 ms\n",
      "Wall time: 102 ms\n"
     ]
    },
    {
     "data": {
      "text/plain": [
       "<2184x3000 sparse matrix of type '<class 'numpy.int64'>'\n",
       "\twith 49189 stored elements in Compressed Sparse Row format>"
      ]
     },
     "execution_count": 8,
     "metadata": {},
     "output_type": "execute_result"
    }
   ],
   "source": [
    "%%time\n",
    "# training\n",
    "count_vectorizer = CountVectorizer(\n",
    "    analyzer=\"word\",\n",
    "    stop_words='english',\n",
    "    max_features=3000) \n",
    "train_data_features = count_vectorizer.fit_transform(train_data['plot'])\n",
    "train_data_features"
   ]
  },
  {
   "cell_type": "markdown",
   "id": "b38f1475",
   "metadata": {},
   "source": [
    "train_data_features は粗筋の数 x 単語の数 (最大 3000) の表で、単語が何件出現するかを記録したものです。\n",
    "\n",
    "試しに教師データの粗筋がどのように変換されたか見てみます。CountVectorizer はレアすぎる単語や頻繁すぎる単語は除外してくれるので、それなりに文章の特徴を表す単語がカウントされています。"
   ]
  },
  {
   "cell_type": "code",
   "execution_count": 9,
   "id": "36aea072",
   "metadata": {},
   "outputs": [
    {
     "name": "stdout",
     "output_type": "stream",
     "text": [
      "plot: A bumbling professor accidently invents flying rubber, or \"Flubber\", an incredible material that gains energy every time it strikes a hard surface. It allows for the invention of shoes that can allow jumps of amazing heights and enables a modified Model-T to fly. Unfortunately, no one is interested in the material except for Alonzo Hawk, a corrupt businessman who wants to steal the material for himself.\n",
      "count:\n",
      "{'wants': 1, 'hard': 1, 'corrupt': 1, 'unfortunately': 1, 'bumbling': 1, 'professor': 1, 'flying': 1, 'incredible': 1, 'material': 3, 'gains': 1, 'energy': 1, 'time': 1, 'strikes': 1, 'surface': 1, 'allows': 1, 'invention': 1, 'shoes': 1, 'allow': 1, 'amazing': 1, 'heights': 1, 'model': 1, 'fly': 1, 'interested': 1, 'hawk': 1, 'businessman': 1, 'steal': 1}\n"
     ]
    }
   ],
   "source": [
    "def show_count(index):\n",
    "    print(\"plot:\", train_data.iloc[index][\"plot\"])\n",
    "    print(\"count:\")\n",
    "    print({\n",
    "        count_vectorizer.get_feature_names()[key]: train_data_features[index, key]\n",
    "            for key\n",
    "            in train_data_features[index].indices})\n",
    "          \n",
    "show_count(12)"
   ]
  },
  {
   "cell_type": "markdown",
   "id": "27ab4217",
   "metadata": {},
   "source": [
    "得られた Bag of words を特徴ベクトルとして、LogisticRegression でジャンルの予測器を作ってみます。"
   ]
  },
  {
   "cell_type": "code",
   "execution_count": 10,
   "id": "a9a77319",
   "metadata": {},
   "outputs": [
    {
     "name": "stdout",
     "output_type": "stream",
     "text": [
      "accuracy 0.4444444444444444\n",
      "confusion matrix\n",
      " [[23  2 10  0  4  3]\n",
      " [ 2 11  8  2  3  5]\n",
      " [12  8 45  2 17  2]\n",
      " [ 3  2  2  3  5  1]\n",
      " [ 3  4 12  1 14  1]\n",
      " [ 9  4  6  2  0 12]]\n",
      "(row=expected, col=predicted)\n"
     ]
    },
    {
     "data": {
      "image/png": "[encoded data removed]",
      "text/plain": [
       "<Figure size 432x288 with 2 Axes>"
      ]
     },
     "metadata": {
      "needs_background": "light"
     },
     "output_type": "display_data"
    }
   ],
   "source": [
    "logreg = linear_model.LogisticRegression(n_jobs=-1, C=1e5)\n",
    "logreg.fit(train_data_features, train_data['tag'])\n",
    "\n",
    "predict(count_vectorizer, logreg, test_data)"
   ]
  },
  {
   "cell_type": "markdown",
   "id": "3bd1bdf2",
   "metadata": {},
   "source": [
    "テストデータを使って評価すると、44% とまあまあ良い正答率です。特に amination や comedy の成績が良いです。\n",
    "\n",
    "LogisticRegression の coef_ 属性を使うと、どのベクトルの次元の影響力が強いのか観察出来ます。coef_ は tag の数 x 特徴ベクトルの次元(単語の数) で、数字が大きいほど影響力が大きいです。"
   ]
  },
  {
   "cell_type": "code",
   "execution_count": 11,
   "id": "77927406",
   "metadata": {
    "scrolled": true
   },
   "outputs": [
    {
     "name": "stdout",
     "output_type": "stream",
     "text": [
      "action: [ 0.75573721 -0.47581172  0.54842262 ... -1.99314501 -0.2582481\n",
      " -0.09286177])\n",
      "animation: [-0.50553718  1.19642655 -0.12130582 ... -0.68777642 -0.11919812\n",
      "  0.69879877])\n",
      "comedy: [-0.03884728  1.97907157  0.74785816 ...  5.12966293 -1.77318799\n",
      " -0.08446958])\n",
      "fantasy: [-0.62133302 -0.01795021 -0.63881266 ... -0.42830753 -1.0628616\n",
      " -0.05787423])\n",
      "romance: [-0.98587051 -2.00795811 -0.30017212 ... -0.37590957  1.07365758\n",
      " -0.35639341])\n",
      "sci-fi: [ 1.39585078 -0.67377808 -0.23599017 ... -1.64452441  2.13983822\n",
      " -0.10719979])\n"
     ]
    }
   ],
   "source": [
    "for tag_index, tag in enumerate(logreg.classes_):\n",
    "    print(f\"{tag}: {logreg.coef_[tag_index]})\")"
   ]
  },
  {
   "cell_type": "markdown",
   "id": "745840a4",
   "metadata": {},
   "source": [
    "coef_ をソートしてジャンルを特徴づける単語を確認します。割と納得の結果なのではと思います。"
   ]
  },
  {
   "cell_type": "code",
   "execution_count": 12,
   "id": "6f6d99bd",
   "metadata": {},
   "outputs": [
    {
     "name": "stdout",
     "output_type": "stream",
     "text": [
      "action: ['america', 'assassin', 'conspiracy', 'pursue', 'terrorists'])\n",
      "animation: ['forest', 'fight', 'snow', 'ending', 'adventurous'])\n",
      "comedy: ['mistaken', 'comedy', 'dealer', 'actress', 'comedian'])\n",
      "fantasy: ['national', 'princess', 'dragon', 'kingdom', 'beast'])\n",
      "romance: ['decide', 'relationships', 'troubled', 'beth', 'nazi'])\n",
      "sci-fi: ['future', 'futuristic', 'cube', 'enterprise', 'space'])\n"
     ]
    }
   ],
   "source": [
    "def most_influential_words(vectorizer, classifier, num_words=10):\n",
    "    words = vectorizer.get_feature_names()\n",
    "    for tag_index, tag in enumerate(classifier.classes_):\n",
    "        coef = classifier.coef_[tag_index]\n",
    "        sorted_coef = sorted(enumerate(coef), key=lambda x:x[1], reverse=True)\n",
    "        sorted_word = [words[index] for index, value in sorted_coef]\n",
    "        print(f\"{tag}: {sorted_word[:num_words]})\")    \n",
    "        \n",
    "most_influential_words(count_vectorizer, logreg, 5)"
   ]
  },
  {
   "cell_type": "markdown",
   "id": "87e56ae0",
   "metadata": {},
   "source": [
    "## Character N-grams\n",
    "\n",
    "次は N-grams です。N-grams というのは、単語で区切る事すらせずに、前後 n 個の文字列の頻度を数えて特徴量とする物です。乱暴なようですが、意外とそれなりの結果が出ます。ここでは 2 から 5 までの文字を区切って特徴量を作ります。"
   ]
  },
  {
   "cell_type": "code",
   "execution_count": 13,
   "id": "2b8bdffd",
   "metadata": {},
   "outputs": [
    {
     "name": "stdout",
     "output_type": "stream",
     "text": [
      "CPU times: user 2min 15s, sys: 29.1 s, total: 2min 44s\n",
      "Wall time: 13.1 s\n"
     ]
    }
   ],
   "source": [
    "%%time\n",
    "n_gram_vectorizer = CountVectorizer(\n",
    "    analyzer=\"char\",\n",
    "    ngram_range=([2,5]),\n",
    "    tokenizer=None,    \n",
    "    preprocessor=None,                               \n",
    "    max_features=3000) \n",
    "\n",
    "logreg = linear_model.LogisticRegression(n_jobs=1, C=1e5, max_iter=1000)\n",
    "train_data_features = n_gram_vectorizer.fit_transform(train_data['plot'])\n",
    "logreg = logreg.fit(train_data_features, train_data['tag'])"
   ]
  },
  {
   "cell_type": "code",
   "execution_count": 14,
   "id": "4de542c9",
   "metadata": {},
   "outputs": [
    {
     "name": "stdout",
     "output_type": "stream",
     "text": [
      "accuracy 0.3950617283950617\n",
      "confusion matrix\n",
      " [[17  3 10  1  9  2]\n",
      " [ 5  9  9  3  1  4]\n",
      " [15  8 41  4 16  2]\n",
      " [ 2  2  3  3  2  4]\n",
      " [ 5  1 14  1 13  1]\n",
      " [ 9  1  5  4  1 13]]\n",
      "(row=expected, col=predicted)\n"
     ]
    },
    {
     "data": {
      "image/png": "[encoded data removed]",
      "text/plain": [
       "<Figure size 432x288 with 2 Axes>"
      ]
     },
     "metadata": {
      "needs_background": "light"
     },
     "output_type": "display_data"
    }
   ],
   "source": [
    "predict(n_gram_vectorizer, logreg, test_data)"
   ]
  },
  {
   "cell_type": "code",
   "execution_count": 15,
   "id": "8eed7bc9",
   "metadata": {},
   "outputs": [
    {
     "name": "stdout",
     "output_type": "stream",
     "text": [
      "action: ['my', ' war', 'ank', 'es ', 'ist '])\n",
      "animation: [' an', 'oy', 'ot', 'y d', 'ima'])\n",
      "comedy: ['ks', 'ud', 'per', 'ate', 'man '])\n",
      "fantasy: ['au', 'king', 'rag', 'd of ', 't d'])\n",
      "romance: ['so', 'vel', ' love', 'par', 'ili'])\n",
      "sci-fi: ['fu', 'rg', 'ar ', ' a f', ' fu'])\n"
     ]
    }
   ],
   "source": [
    "most_influential_words(n_gram_vectorizer, logreg, 5)"
   ]
  },
  {
   "cell_type": "markdown",
   "id": "6cb2d668",
   "metadata": {},
   "source": [
    "影響力の大きい特徴量を見ると、まあそんなもんかなと思います。"
   ]
  }
 ],
 "metadata": {
  "kernelspec": {
   "display_name": "Python 3",
   "language": "python",
   "name": "python3"
  },
  "language_info": {
   "codemirror_mode": {
    "name": "ipython",
    "version": 3
   },
   "file_extension": ".py",
   "mimetype": "text/x-python",
   "name": "python",
   "nbconvert_exporter": "python",
   "pygments_lexer": "ipython3",
   "version": "3.9.5"
  }
 },
 "nbformat": 4,
 "nbformat_minor": 5
}
